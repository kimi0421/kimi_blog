{
 "metadata": {
  "name": "",
  "signature": "sha256:1aea840464bcd5ee2685fbc9e5fe9c224f7fef734fcec7484290773096b6e9bf"
 },
 "nbformat": 3,
 "nbformat_minor": 0,
 "worksheets": [
  {
   "cells": [
    {
     "cell_type": "heading",
     "level": 1,
     "metadata": {},
     "source": [
      "Regularization"
     ]
    },
    {
     "cell_type": "markdown",
     "metadata": {},
     "source": [
      "Regularization is a process to introduce more information in a current model in order to avoid overfitting or ill-posed problem. It is useful for model selection reducing overfitting by adding a complexity penalty to the loss function and L1, L2 regularization are two common varaints adding to the machine learning algorithm. "
     ]
    },
    {
     "cell_type": "code",
     "collapsed": false,
     "input": [],
     "language": "python",
     "metadata": {},
     "outputs": []
    }
   ],
   "metadata": {}
  }
 ]
}