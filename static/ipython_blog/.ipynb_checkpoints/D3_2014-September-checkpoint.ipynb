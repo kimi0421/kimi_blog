{
 "metadata": {
  "name": "",
  "signature": "sha256:ed86e6de51e00ae3bfddfe159d3a64105fa3b23f2f589e33d3112c1759a9db85"
 },
 "nbformat": 3,
 "nbformat_minor": 0,
 "worksheets": [
  {
   "cells": [
    {
     "cell_type": "heading",
     "level": 1,
     "metadata": {},
     "source": [
      "Learning D3"
     ]
    },
    {
     "cell_type": "markdown",
     "metadata": {},
     "source": [
      "Before learning D3, we need to know how to display d3 in ipython."
     ]
    },
    {
     "cell_type": "markdown",
     "metadata": {},
     "source": [
      "First write a d3 html file to a template file"
     ]
    },
    {
     "cell_type": "code",
     "collapsed": false,
     "input": [
      "%%writefile files/f.template\n",
      "\n",
      "<!DOCTYPE html>\n",
      "<meta charset=\"utf-8\">\n",
      "<body>\n",
      "<script src=\"http://d3js.org/d3.v3.min.js\"></script>\n",
      "<script>\n",
      "\n",
      "var width = {width},\n",
      "    height = {height};\n",
      "\n",
      "var nodes = d3.range({ball_count}).map(function() { return {radius: Math.random() * 12 + 4}; }),\n",
      "    root = nodes[0],\n",
      "    color = d3.scale.category10();\n",
      "\n",
      "root.radius = 0;\n",
      "root.fixed = true;\n",
      "\n",
      "var force = d3.layout.force()\n",
      "    .gravity(0.05)\n",
      "    .charge(function(d, i) { return i ? 0 : -2000; })\n",
      "    .nodes(nodes)\n",
      "    .size([width, height]);\n",
      "\n",
      "force.start();\n",
      "\n",
      "var svg = d3.select(\"body\").append(\"svg\")\n",
      "    .attr(\"width\", width)\n",
      "    .attr(\"height\", height);\n",
      "\n",
      "svg.selectAll(\"circle\")\n",
      "    .data(nodes.slice(1))\n",
      "  .enter().append(\"circle\")\n",
      "    .attr(\"r\", function(d) { return d.radius; })\n",
      "    .style(\"fill\", function(d, i) { return color(i % 3); });\n",
      "\n",
      "force.on(\"tick\", function(e) {\n",
      "  var q = d3.geom.quadtree(nodes),\n",
      "      i = 0,\n",
      "      n = nodes.length;\n",
      "\n",
      "  while (++i < n) q.visit(collide(nodes[i]));\n",
      "\n",
      "  svg.selectAll(\"circle\")\n",
      "      .attr(\"cx\", function(d) { return d.x; })\n",
      "      .attr(\"cy\", function(d) { return d.y; });\n",
      "});\n",
      "\n",
      "svg.on(\"mousemove\", function() {\n",
      "  var p1 = d3.mouse(this);\n",
      "  root.px = p1[0];\n",
      "  root.py = p1[1];\n",
      "  force.resume();\n",
      "});\n",
      "\n",
      "function collide(node) {\n",
      "  var r = node.radius + 16,\n",
      "      nx1 = node.x - r,\n",
      "      nx2 = node.x + r,\n",
      "      ny1 = node.y - r,\n",
      "      ny2 = node.y + r;\n",
      "  return function(quad, x1, y1, x2, y2) {\n",
      "    if (quad.point && (quad.point !== node)) {\n",
      "      var x = node.x - quad.point.x,\n",
      "          y = node.y - quad.point.y,\n",
      "          l = Math.sqrt(x * x + y * y),\n",
      "          r = node.radius + quad.point.radius;\n",
      "      if (l < r) {\n",
      "        l = (l - r) / l * .5;\n",
      "        node.x -= x *= l;\n",
      "        node.y -= y *= l;\n",
      "        quad.point.x += x;\n",
      "        quad.point.y += y;\n",
      "      }\n",
      "    }\n",
      "    return x1 > nx2 || x2 < nx1 || y1 > ny2 || y2 < ny1;\n",
      "  };\n",
      "}\n",
      "\n",
      "</script>\n"
     ],
     "language": "python",
     "metadata": {},
     "outputs": [
      {
       "output_type": "stream",
       "stream": "stdout",
       "text": [
        "Overwriting files/f.template\n"
       ]
      }
     ],
     "prompt_number": 11
    },
    {
     "cell_type": "markdown",
     "metadata": {},
     "source": [
      "Then we can use display to show the html embed "
     ]
    },
    {
     "cell_type": "code",
     "collapsed": false,
     "input": [
      "from IPython.display import IFrame\n",
      "import re\n",
      "\n",
      "def replace_all(txt,d):\n",
      "    rep = dict((re.escape('{'+k+'}'), str(v)) for k, v in d.items())\n",
      "    pattern = re.compile(\"|\".join(rep.keys()))\n",
      "    return pattern.sub(lambda m: rep[re.escape(m.group(0))], txt)    \n",
      "\n",
      "count=0\n",
      "def serve_html(s,w,h):\n",
      "    import os\n",
      "    global count\n",
      "    count+=1\n",
      "    fn= '../html/__tmp'+str(os.getpid())+'_'+str(count)+'.html'\n",
      "    fn1 = '/html/__tmp'+str(os.getpid())+'_'+str(count)+'.html'\n",
      "    with open(fn,'w') as f:\n",
      "        f.write(s)\n",
      "    return IFrame(fn,w,h)"
     ],
     "language": "python",
     "metadata": {},
     "outputs": [],
     "prompt_number": 13
    },
    {
     "cell_type": "markdown",
     "metadata": {},
     "source": [
      "Write a function that serve the html"
     ]
    },
    {
     "cell_type": "code",
     "collapsed": false,
     "input": [
      "def f(weight, height, ball_count):\n",
      "    d = {\n",
      "        'width': weight,\n",
      "        'height': height,\n",
      "        'ball_count': ball_count\n",
      "    }\n",
      "    with open('files/f.template', 'r') as f:\n",
      "        s=f.read()\n",
      "    s = replace_all(s, d)\n",
      "    return serve_html(s, weight + 30, height + 30)"
     ],
     "language": "python",
     "metadata": {},
     "outputs": [],
     "prompt_number": 14
    },
    {
     "cell_type": "code",
     "collapsed": false,
     "input": [
      "f(500, 400, 50)"
     ],
     "language": "python",
     "metadata": {},
     "outputs": [
      {
       "html": [
        "\n",
        "        <iframe\n",
        "            width=\"530\"\n",
        "            height=430\"\n",
        "            src=\"../html/__tmp31559_1.html\"\n",
        "            frameborder=\"0\"\n",
        "            allowfullscreen\n",
        "        ></iframe>\n",
        "        "
       ],
       "metadata": {},
       "output_type": "pyout",
       "prompt_number": 15,
       "text": [
        "<IPython.lib.display.IFrame at 0x10e48af50>"
       ]
      }
     ],
     "prompt_number": 15
    },
    {
     "cell_type": "heading",
     "level": 1,
     "metadata": {},
     "source": [
      "Tutorial"
     ]
    },
    {
     "cell_type": "code",
     "collapsed": false,
     "input": [],
     "language": "python",
     "metadata": {},
     "outputs": []
    }
   ],
   "metadata": {}
  }
 ]
}