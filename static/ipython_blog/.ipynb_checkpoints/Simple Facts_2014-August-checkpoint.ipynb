{
 "metadata": {
  "name": "",
  "signature": "sha256:f7dbde594159a5639c07ec983e2881f0dc2dbe20989c5ac8f6b48871f932ee0b"
 },
 "nbformat": 3,
 "nbformat_minor": 0,
 "worksheets": []
}