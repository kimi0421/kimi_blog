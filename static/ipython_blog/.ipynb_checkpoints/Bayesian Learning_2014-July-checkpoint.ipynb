{
 "metadata": {
  "name": "",
  "signature": "sha256:a62b0bc654831fd33ba4ea14775fdaeacfbca6460a8da3f8b69de548d7501d38"
 },
 "nbformat": 3,
 "nbformat_minor": 0,
 "worksheets": [
  {
   "cells": [
    {
     "cell_type": "heading",
     "level": 1,
     "metadata": {},
     "source": [
      "Example"
     ]
    },
    {
     "cell_type": "markdown",
     "metadata": {},
     "source": [
      "Let's look at an example first. \n",
      "\n",
      "Suppose that Bob can decide to go to work by one of three modes of transportation, car, bus, or commuter train. Because of high traffic, if he decides to go by car, there is a $50\\%$ chance he will be late. If he goes by bus, which has special reserved lanes but is sometimes overcrowded, the probability of being late is only $20\\%$. The commuter train is almost never late, with probability of only $1\\%$, but is more expensive than the bus. \n",
      "\n",
      "1. Suppose that Bob is late one day, and his boss wishes to estimate the probability that he drove to work that day by car. Since he does not know which mode of transportation Bob usually uses, he gives a prior probability of $\\frac{1}{3}$ to each of the three possibilities. What is the boss' estimate of the probability that Bob drove to work?\n",
      "\n",
      "2. Suppose that a coworker of Bob's knows that he almost always takes the commuter train to work, never takes the bus, but sometimes, $10\\%$ of the time, takes the car. What is the coworkers probability that Bob drove to work that day, given that he was late?\n",
      "\n",
      "In order to answer these two questions we use Bayes Theorem to solve the problem:\n",
      "\n",
      "1. List all the information we have:\n",
      "    \n",
      "    $P(late|car) = 0.5$, $P(late|bus) = 0.2$, $P(late|train) = 0.01$. Since Bob is already late, thus $P(late) = 1$\n",
      "    \n",
      "    Given the condition we have:\n",
      "    \n",
      "    $P(car) = \\frac{1}{3}$, $P(bus) = \\frac{1}{3}$, $P(train) = \\frac{1}{3}$\n",
      "    \n",
      "    Thus the probability that Bob drove to work \n",
      "    \n",
      "    $$P(car|late) = \\frac{P(late|car)P(car)}{P(late)}$$ \n",
      "    \n",
      "    $$P(car|late) = \\frac{0.5 \\cdot 0.33}{P(late)}$$\n",
      "    \n",
      "    so whate is $P(late)$, it is:\n",
      "    \n",
      "    $$P(late) = P(late|car)P(car) + P(late|bus)P(bus) + P(late|train)P(train) = (0.5 + 0.2 + 0.01) / 3 $$\n",
      "\n",
      "2. Given the condition: \n",
      "\n",
      "    $P(bus) = 0$, $P(car) = 0.1$, $P(train) = 0.9$, so we can have the similar the calculation from above\n",
      "    "
     ]
    },
    {
     "cell_type": "heading",
     "level": 1,
     "metadata": {},
     "source": [
      "The Basic Theorem"
     ]
    },
    {
     "cell_type": "markdown",
     "metadata": {},
     "source": [
      "Bayes Theorem\n",
      "\n",
      "$$P(h|D) = \\frac{P(D|h)P(h)}{P(D)}$$\n",
      "\n",
      "$$P(h\\cap D) = P(h|D) P(D)$$\n",
      "\n",
      "It is a classic theorem and the Bayesian learning inducts from this formula"
     ]
    },
    {
     "cell_type": "heading",
     "level": 1,
     "metadata": {},
     "source": [
      "Why"
     ]
    },
    {
     "cell_type": "markdown",
     "metadata": {},
     "source": [
      "All machine learning algorithm will have uncertainty including:\n",
      "\n",
      "* Measurement noise\n",
      "* Model uncertainty \n",
      "* Parameter uncertainty\n",
      "\n",
      "Bayesian approach is to quantify the uncertainty. Some normal approaches will not consider quantifying the uncertainty, and the direct result will be 'over-fitting'. For example, if you increase the order of the linear model, you will find that reproduced model fitts the observed data so well. However, it often performs poorly on the test data validation. It does not take uncertainty into account, thus it is too 'precise' in the training data causing the prediction goes only in one direction. In fact, prediction can be in any regions. Bayesian approach will help us to understand how the model is working. It specify a region that 'parameters' lie in with 'high confidence'.  "
     ]
    },
    {
     "cell_type": "heading",
     "level": 1,
     "metadata": {},
     "source": [
      "Bayesian's View On Linear Model"
     ]
    },
    {
     "cell_type": "heading",
     "level": 1,
     "metadata": {},
     "source": []
    }
   ],
   "metadata": {}
  }
 ]
}