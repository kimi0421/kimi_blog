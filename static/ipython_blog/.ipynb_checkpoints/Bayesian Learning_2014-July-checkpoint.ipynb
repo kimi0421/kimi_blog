{
 "metadata": {
  "name": ""
 },
 "nbformat": 3,
 "nbformat_minor": 0,
 "worksheets": [
  {
   "cells": [
    {
     "cell_type": "heading",
     "level": 1,
     "metadata": {},
     "source": [
      "The Basic Theorem"
     ]
    },
    {
     "cell_type": "markdown",
     "metadata": {},
     "source": [
      "Bayes Theorem\n",
      "$$P(h|D) = \\frac{P(D|h)P(h)}{P(D)}$$\n"
     ]
    }
   ],
   "metadata": {}
  }
 ]
}