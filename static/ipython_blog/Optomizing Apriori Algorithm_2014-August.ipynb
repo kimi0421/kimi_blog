{
 "metadata": {
  "name": ""
 },
 "nbformat": 3,
 "nbformat_minor": 0,
 "worksheets": [
  {
   "cells": [
    {
     "cell_type": "markdown",
     "metadata": {},
     "source": [
      "We can use pandas to construct the Apriori Algorithm, the code is below:"
     ]
    },
    {
     "cell_type": "code",
     "collapsed": false,
     "input": [
      "from itertools import combinations\n",
      "import pandas as pd\n",
      "import numpy as np\n",
      "\n",
      "def apriori(trans, support=0.01, minlen=1):\n",
      "    ts=pd.get_dummies(trans.unstack().dropna()).groupby(level=1).sum()\n",
      "\n",
      "    collen, rowlen  =ts.shape\n",
      "\n",
      "    #-------------Max leng (not used)\n",
      "    #tssum=ts.sum(axis=1)\n",
      "    #maxlen=int(tssum.loc[tssum.idxmax()])\n",
      "\n",
      "\n",
      "    pattern = []\n",
      "    for cnum in range(minlen, rowlen+1):\n",
      "        for cols in combinations(ts, cnum):\n",
      "            patsup = ts[list(cols)].all(axis=1).sum()\n",
      "            patsup=float(patsup)/collen\n",
      "            pattern.append([\",\".join(cols), patsup])\n",
      "    sdf = pd.DataFrame(pattern, columns=[\"Pattern\", \"Support\"])\n",
      "    results=sdf[sdf.Support >= support]\n",
      "\n",
      "    return results"
     ],
     "language": "python",
     "metadata": {},
     "outputs": []
    },
    {
     "cell_type": "markdown",
     "metadata": {},
     "source": [
      "The transition data frame is better like below:"
     ]
    },
    {
     "cell_type": "code",
     "collapsed": false,
     "input": [
      "trans = \n",
      "        1  2    3    4\n",
      "0                     \n",
      "11      a  b    c  NaN\n",
      "666     a  d    e  NaN\n",
      "10101   b  c    d  NaN\n",
      "1010    a  b    c    d\n",
      "414147  b  c  NaN  NaN\n",
      "10101   a  b    d  NaN\n",
      "1242    d  e  NaN  NaN\n",
      "101     a  b    c  NaN\n",
      "411     c  d    e  NaN\n",
      "444     a  b    c  NaN\n",
      "\n",
      "[10 rows x 4 columns]"
     ],
     "language": "python",
     "metadata": {},
     "outputs": []
    }
   ],
   "metadata": {}
  }
 ]
}