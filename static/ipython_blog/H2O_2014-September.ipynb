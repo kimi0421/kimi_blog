{
 "metadata": {
  "name": "",
  "signature": "sha256:7a925b6bc758d604e058983632d9f5561f3fbc49153a621eae4adfbb226fc1b3"
 },
 "nbformat": 3,
 "nbformat_minor": 0,
 "worksheets": [
  {
   "cells": [
    {
     "cell_type": "heading",
     "level": 1,
     "metadata": {},
     "source": [
      "What is H2O"
     ]
    },
    {
     "cell_type": "markdown",
     "metadata": {},
     "source": [
      "From the official website <a href=\"http://www.0xdata.com/\">http://www.0xdata.com/</a>"
     ]
    },
    {
     "cell_type": "markdown",
     "metadata": {},
     "source": [
      "H2O is the world\u2019s fastest in-memory platform for machine learning and predictive analytics on big data.\n",
      "It is the only alternative to combine the power of highly advanced algorithms, the freedom of open source, and the capacity of truly scalable in-memory processing for big data on one or many nodes. Combined, these capabilities make it faster, easier, and more cost effective to harness big data to maximum benefit for the business.\n",
      "\n",
      "Data collection is easy. Decision making is hard. H2O makes it fast and easy to derive insights from your data through faster and better predictive modeling. Existing Big Data stacks are batch oriented. Search and analytics need to be interactive. Use machines to learn machine-generated data. And more data beats better algorithms.\n",
      "\n",
      "With H2O, you can:\n",
      "\n",
      "Make better predictions. Harness sophisticated, ready-to-use algorithms and the processing power you need to analyze bigger data sets, more models, and more variables.\n",
      "Get started with minimal effort and investment. H2O is an extensible open source platform that offers the most pragmatic way to put big data to work for your business. With H2O, you can work with your existing languages and tools. Further, you can extend the platform seamlessly into your Hadoop environments."
     ]
    },
    {
     "cell_type": "heading",
     "level": 1,
     "metadata": {},
     "source": [
      "Install H2O"
     ]
    },
    {
     "cell_type": "markdown",
     "metadata": {},
     "source": [
      "H2O has R api, and it is easy to implement algorithm using R. You can also install H2O via R:"
     ]
    },
    {
     "cell_type": "code",
     "collapsed": false,
     "input": [
      "%reload_ext rpy2.ipython\n",
      "# The following two commands remove any previously installed H2O packages for R.\n",
      "%R if (\"package:h2o\" %in% search()) { detach(\"package:h2o\", unload=TRUE) }\n",
      "%R if (\"h2o\" %in% rownames(installed.packages())) { remove.packages(\"h2o\") }\n",
      "\n",
      "# Next, we download, install and initialize the H2O package for R.\n",
      "%R install.packages(\"h2o\", repos=(c(\"http://h2o-release.s3.amazonaws.com/h2o/rel-lambert/5/R\", getOption(\"repos\"))))\n",
      "%R library(h2o)\n",
      "%R localH2O = h2o.init()"
     ],
     "language": "python",
     "metadata": {},
     "outputs": [
      {
       "metadata": {},
       "output_type": "display_data",
       "text": [
        "Removing package(s) from \u2018/home/kimi/R/x86_64-pc-linux-gnu-library/2.14\u2019\n",
        "(as \u2018lib\u2019 is unspecified)\n"
       ]
      },
      {
       "metadata": {},
       "output_type": "display_data",
       "text": [
        "Installing package(s) into \u2018/home/kimi/R/x86_64-pc-linux-gnu-library/2.14\u2019\n",
        "(as \u2018lib\u2019 is unspecified)\n",
        "Error in function (e)  : \n",
        "  cannot open file '/home/kimi/R/x86_64-pc-linux-gnu-library/2.14/h2o/R/h2o.rdb': No such file or directory\n",
        "trying URL 'http://h2o-release.s3.amazonaws.com/h2o/rel-lambert/5/R/src/contrib/h2o_2.6.1.5.tar.gz'\n",
        "Content type 'application/x-tar; charset=binary' length 41097497 bytes (39.2 Mb)\n",
        "opened URL\n",
        "==================================================\n",
        "downloaded 39.2 Mb\n",
        "\n",
        "\n",
        "The downloaded packages are in\n",
        "\t\u2018/tmp/RtmpftlX2m/downloaded_packages\u2019\n"
       ]
      },
      {
       "metadata": {},
       "output_type": "display_data",
       "text": [
        "\n",
        "----------------------------------------------------------------------\n",
        "\n",
        "Your next step is to start H2O and get a connection object (named\n",
        "'localH2O', for example):\n",
        "    > localH2O = h2o.init()\n",
        "\n",
        "For H2O package documentation, first call init() and then ask for help:\n",
        "    > localH2O = h2o.init()\n",
        "    > ??h2o\n",
        "\n",
        "To stop H2O you must explicitly call shutdown (either from R, as shown\n",
        "here, or from the Web UI):\n",
        "    > h2o.shutdown(localH2O)\n",
        "\n",
        "After starting H2O, you can use the Web UI at http://localhost:54321\n",
        "For more information visit http://docs.0xdata.com\n",
        "\n",
        "----------------------------------------------------------------------\n",
        "\n",
        "\n",
        "Attaching package: \u2018h2o\u2019\n",
        "\n",
        "The following object(s) are masked from \u2018package:base\u2019:\n",
        "\n",
        "    ifelse, max, min, sum\n",
        "\n"
       ]
      },
      {
       "metadata": {},
       "output_type": "display_data",
       "text": [
        "Successfully connected to http://127.0.0.1:54321 \n",
        "R is connected to H2O cluster:\n",
        "    H2O cluster uptime:         1 minutes 44 seconds \n",
        "    H2O cluster version:        2.6.1.5 \n",
        "    H2O cluster name:           H2O_started_from_R \n",
        "    H2O cluster total nodes:    1 \n",
        "    H2O cluster total memory:   1.20 GB \n",
        "    H2O cluster total cores:    1 \n",
        "    H2O cluster allowed cores:  1 \n",
        "    H2O cluster healthy:        TRUE \n",
        "\n"
       ]
      }
     ],
     "prompt_number": 7
    },
    {
     "cell_type": "markdown",
     "metadata": {},
     "source": [
      "Right now your H2O is already installed, and you can go to H2O local server <a href=\"http://localhost:54321\">http://localhost:54321</a> to data anlytics job. It is quite easy to do in the html server, the UI is straightforwad. You can upload data, do deep learning, glm using the server. I will introduce how to use it with R and try to import the library in python. "
     ]
    },
    {
     "cell_type": "markdown",
     "metadata": {},
     "source": [
      "<img src=\"files/__H2O.png\">"
     ]
    },
    {
     "cell_type": "code",
     "collapsed": false,
     "input": [],
     "language": "python",
     "metadata": {},
     "outputs": []
    }
   ],
   "metadata": {}
  }
 ]
}