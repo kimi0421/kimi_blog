{
 "metadata": {
  "name": "",
  "signature": "sha256:e2fbf503cbd790e3ecda2d2cc78f19cc06879ce0f2cccdd8c79f1bd92e0dcd0a"
 },
 "nbformat": 3,
 "nbformat_minor": 0,
 "worksheets": [
  {
   "cells": [
    {
     "cell_type": "heading",
     "level": 1,
     "metadata": {},
     "source": [
      "What is Kalman Filter"
     ]
    },
    {
     "cell_type": "markdown",
     "metadata": {},
     "source": [
      "Some facts need remeber:\n",
      "\n",
      "1. It is the optimal estimator for one-dimensional linear systems with Gaussian error statistics.\n",
      "2. Use for smoothing noisy data and providing estimates of parameters. \n",
      "3. It was uesd in Apollo navigation computer that took Neil Armstrong to the moon and brouht him back!!!!!\n",
      "\n",
      "Before introducing the Kalman filter, let's take a look at an example:\n",
      "<img src=\"files/kalman_filter.png\" height=\"300\" width=\"300\">\n",
      "\n",
      "We would like to measure the level of water in a tank, showing above figure. Trying to estimate the level of water in the tank, which is unknow. The measurements obtained are from the level of the 'float' on top of the water. This could be an electronic device, or a simple mechanical device for measuring. Assume you have hydrologic model that predicts river water level every hour. \n",
      "\n",
      "The model is not perfect and you can't fully trust, so you can use the measurement device. However, the device that measures the river level can not be trusted 100% either. How to combine both the outputs from the model and from the measurement to have the better estimate, we can use Kalman filtering. I will discuss this example in details later. "
     ]
    },
    {
     "cell_type": "heading",
     "level": 1,
     "metadata": {},
     "source": [
      "Basic Mathematics "
     ]
    },
    {
     "cell_type": "markdown",
     "metadata": {},
     "source": [
      "Covariance:\n",
      "$$cov(x_1, x_2) = E[(x_1 - \\bar{x_1})(x_2 - \\bar{x_2})]$$\n",
      "\n",
      "Correlation coefficient:\n",
      "$$\\rho_{12} = \\frac{\\rho_{x_1x_2}^2}{\\rho_{x_1}\\rho_{x_2}}$$ \n",
      "\n",
      "where:\n",
      "$$-1 \\le \\rho_{12} \\le +1$$\n"
     ]
    },
    {
     "cell_type": "heading",
     "level": 1,
     "metadata": {},
     "source": [
      "Statement"
     ]
    },
    {
     "cell_type": "markdown",
     "metadata": {},
     "source": [
      "The Kalman filter model assumes that the state of a system at a time $t$ evolved from the prior state at time $t-1$ according to the equation\n",
      "\n",
      "$$x_t = F_t x_{t-1} + B_tu_t + w_t$$\n",
      "\n",
      "with a measurement $z\\in \\mathbb{R}^m$ that is\n",
      "\n",
      "$$z_t = Hx_t + v_t$$\n",
      "\n",
      "* $x_t$ is the state vector\n",
      "* $F_t$ is the state transition matrix\n",
      "* $B_t$ is the control input matrix which applies the effect of each control input parameter in the vector $u_t$\n",
      "* $w_t$ is the vector containing the process noise terms for each parameter \n",
      "\n",
      "The Kalman filter is essentially a set of mathematical equations that implement a predictor-corrector type estimator that is optimal in the sense that it minimizes the estimated error covariance $\u2014$ when some presumed conditions are met. \n",
      "\n",
      "For the white noise $w_t$ and $v_t$, they are assumed to be independent with probability distributions:\n",
      "\n",
      "$$P(w) ~ N(0, Q)$$\n",
      "$$P(v) ~ N(0, R)$$\n",
      "\n",
      "$Q$ and $R$ may change over the time. In order to have the prediction, we need do Time Update and Measurement Update:\n",
      "\n",
      "* Time Update\n",
      "$$\\hat{x_k} = F \\hat{x_{k-1}} + B u_k$$\n",
      "$$\\bar{P_k} = A P_{k-1} A^{T} + Q$$\n",
      "\n",
      "* Measurement Update\n",
      "$$K_k = \\bar{P_k}H^{T}(H\\bar{P_k}H^T + R)^{-1}$$\n",
      "$$\\hat{x_k} = "
     ]
    },
    {
     "cell_type": "code",
     "collapsed": false,
     "input": [],
     "language": "python",
     "metadata": {},
     "outputs": []
    }
   ],
   "metadata": {}
  }
 ]
}