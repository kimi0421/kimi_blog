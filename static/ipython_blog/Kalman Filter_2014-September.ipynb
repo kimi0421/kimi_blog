{
 "metadata": {
  "name": ""
 },
 "nbformat": 3,
 "nbformat_minor": 0,
 "worksheets": [
  {
   "cells": [
    {
     "cell_type": "heading",
     "level": 1,
     "metadata": {},
     "source": [
      "What is Kalman Filter"
     ]
    },
    {
     "cell_type": "markdown",
     "metadata": {},
     "source": [
      "Some facts need remeber:\n",
      "\n",
      "1. It is the optimal estimator for one-dimensional linear systems with Gaussian error statistics.\n",
      "2. Use for smoothing noisy data and providing estimates of parameters. \n",
      "3. It was uesd in Apollo navigation computer that took Neil Armstrong to the moon and brouht him back!!!!!\n",
      "\n",
      "Before introducing the Kalman filter, let's take a look at an example:\n",
      "<img src=\"files/kalman_filter.png\" height=\"300\" width=\"300\">\n",
      "\n",
      "We would like to measure the level of water in a tank, showing above figure. Trying to estimate the level of water in the tank, which is unknow. The measurements obtained are from the level of the 'float' on top of the water. This could be an electronic device, or a simple mechanical device for measuring. Assume you have hydrologic model that predicts river water level every hour. \n",
      "\n",
      "The model is not perfect and you can't fully trust, so you can use the measurement device. However, the device that measures the river level can not be trusted 100% either. How to combine both the outputs from the model and from the measurement to have the better estimate, we can use Kalman filtering. I will discuss this example in details later. "
     ]
    },
    {
     "cell_type": "code",
     "collapsed": false,
     "input": [],
     "language": "python",
     "metadata": {},
     "outputs": []
    }
   ],
   "metadata": {}
  }
 ]
}