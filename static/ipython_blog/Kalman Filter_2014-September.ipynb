{
 "metadata": {
  "name": "",
  "signature": "sha256:0cfb43aa580156b20217c2127a6e001ca7adef1a78573e6012a12e28023f4a81"
 },
 "nbformat": 3,
 "nbformat_minor": 0,
 "worksheets": [
  {
   "cells": [
    {
     "cell_type": "heading",
     "level": 1,
     "metadata": {},
     "source": [
      "What is Kalman Filter"
     ]
    },
    {
     "cell_type": "markdown",
     "metadata": {},
     "source": [
      "Some facts need remeber:\n",
      "\n",
      "1. It is the optimal estimator for one-dimensional linear systems with Gaussian error statistics.\n",
      "2. Use for smoothing noisy data and providing estimates of parameters. \n",
      "3. It was uesd in Apollo navigation computer that took Neil Armstrong to the moon and brouht him back!!!!!\n",
      "\n",
      "Before introducing the Kalman filter, let's take a look at an example:\n",
      "<img src=\"files/kalman_filter.png\" height=\"300\" width=\"300\">\n",
      "\n",
      "We would like to measure the level of water in a tank, showing above figure. Trying to estimate the level of water in the tank, which is unknow. The measurements obtained are from the level of the 'float' on top of the water. This could be an electronic device, or a simple mechanical device for measuring. Assume you have hydrologic model that predicts river water level every hour. \n",
      "\n",
      "The model is not perfect and you can't fully trust, so you can use the measurement device. However, the device that measures the river level can not be trusted 100% either. How to combine both the outputs from the model and from the measurement to have the better estimate, we can use Kalman filtering. I will discuss this example in details later. "
     ]
    },
    {
     "cell_type": "heading",
     "level": 1,
     "metadata": {},
     "source": [
      "Basic Mathematics "
     ]
    },
    {
     "cell_type": "markdown",
     "metadata": {},
     "source": [
      "Covariance:\n",
      "$$cov(x_1, x_2) = E[(x_1 - \\bar{x_1})(x_2 - \\bar{x_2})]$$\n",
      "\n",
      "Correlation coefficient:\n",
      "$$\\rho_{12} = \\frac{\\rho_{x_1x_2}^2}{\\rho_{x_1}\\rho_{x_2}}$$ \n",
      "\n",
      "where:\n",
      "$$-1 \\le \\rho_{12} \\le +1$$\n"
     ]
    },
    {
     "cell_type": "heading",
     "level": 1,
     "metadata": {},
     "source": [
      "Statement"
     ]
    },
    {
     "cell_type": "markdown",
     "metadata": {},
     "source": [
      "The Kalman filter model assumes that the state of a system at a time $t$ evolved from the prior state at time $t-1$ according to the equation\n",
      "\n",
      "$$x_t = F_t x_{t-1} + B_tu_t + w_t$$\n",
      "\n",
      "with a measurement $z\\in \\mathbb{R}^m$ that is\n",
      "\n",
      "$$z_t = Hx_t + v_t$$\n",
      "\n",
      "* $x_t$ is the state vector\n",
      "* $F_t$ is the state transition matrix\n",
      "* $B_t$ is the control input matrix which applies the effect of each control input parameter in the vector $u_t$\n",
      "* $w_t$ is the vector containing the process noise terms for each parameter \n",
      "\n",
      "The Kalman filter is essentially a set of mathematical equations that implement a predictor-corrector type estimator that is optimal in the sense that it minimizes the estimated error covariance $\u2014$ when some presumed conditions are met. \n",
      "\n",
      "For the white noise $w_t$ and $v_t$, they are assumed to be independent with probability distributions:\n",
      "\n",
      "$$P(w) \\sim N(0, Q)$$\n",
      "$$P(v) \\sim N(0, R)$$\n",
      "\n",
      "$Q$ and $R$ may change over the time. In order to have the prediction, we need do Time Update and Measurement Update:\n",
      "\n",
      "* Time Update (Prediction)\n",
      "$$\\hat{x}_{t|t-1} = F_t \\hat{x}_{t-1|t-1} + B_t u_t$$\n",
      "$$P_{t|t-1} = A P_{t-1|t-1} A^{T} + Q_t$$\n",
      "\n",
      "* Measurement Update\n",
      "$$\\hat{x}_{t|t} = \\hat{x}_{t|t-1} + K_t(y_t - H_t\\hat{x}_{t|t-1}$$\n",
      "$$K_t = P_{t|t-1}H^T_t(H_tP_{t|t-1}H_t^T + R_t)^{-1}$$\n",
      "$$P_k = (\\mathbb{1} - K_tH_t)P_{t|t-1}$$\n",
      "\n",
      "where:\n",
      "\n",
      "- $F$: State transition matrix\n",
      "- $u$: Control variables\n",
      "- $B$: Control matrix\n",
      "- $P$: State variance matrix (estimation errors)\n",
      "- $Q$: Process variance matrix (process errors)\n",
      "- $y$: Measurement variables\n",
      "- $H$: Meaturement matrix\n",
      "- $K$: Kalman gain\n",
      "- $R$: Measurement variance matrix (measurement errors)\n"
     ]
    },
    {
     "cell_type": "heading",
     "level": 1,
     "metadata": {},
     "source": [
      "Example"
     ]
    },
    {
     "cell_type": "markdown",
     "metadata": {},
     "source": [
      "From above water float example, I can model the whole system to measure the tank level.\n",
      "\n",
      "Assume it is a static model:\n",
      "\n",
      "The tank level will be constant $L = c$, and the state variable $\\hat{x} = x$ where $x$ is the estimate of $L$. So the time update equation become $x_{t+1} = x_t$, $A = 0$ and $F_t = 1$ for any $t \\geq 0$. We assume that the measurement is the same as our state estimate $x$ (i.e., $H=1$). Then we should model the noice with $R$ and $Q$. The filter will be as following:\n",
      "\n",
      "* Prediction:\n",
      "$$x_{t|t-1} = x_{t-1|t-1}$$\n",
      "$$p_{t|t-1} = p_{t-1|t-1} + q_t$$\n",
      "\n",
      "* Update:\n",
      "$$x_{t|t} = x_{t|t-1} + K_t(y_t - x_{t|t-1}$$\n",
      "$$K_t = p_{t|t-1}(p_{t|t-1} + r)^{-1}$$\n",
      "$$p_{t|t} = (1 - K_t)p_{t|t-1}$$\n",
      "\n",
      "In the example let $c = 1$, then we can illustrate how kalman filter updates. We can initialize $x$ and $p$ then iterate to $x_t$. Let $x_0 = 0$ and $p_0 = 1000$. For the error $q$, let $q = 0.0001$. \n",
      "\n",
      "$$x_{1|0} = 0$$\n",
      "$$p_{1|0} = 1000 + 0.0001$$\n",
      "\n",
      "The hypothetical measurement we get is $y_1 = 0.9$ and the noise $r = 0.1$. So we can update:\n",
      "\n",
      "$$K_1 = 1000.0001(1000 \\cdot 0.0001 + 0.1)^{-1} = 0.9999$$\n",
      "$$x_{1|1} = 0 + 0.9999(0.9 - 0) = 0.8999$$\n",
      "$$p_{1|1} = (1 - 0.9999) 1000.0001 = 0.1$$\n",
      "\n",
      "With more and more measurements we can update the $x_t$ iterately. "
     ]
    },
    {
     "cell_type": "heading",
     "level": 1,
     "metadata": {},
     "source": [
      "Using Python "
     ]
    },
    {
     "cell_type": "markdown",
     "metadata": {},
     "source": [
      "It is not necessary to use a specific package for Kalman Filter, using basic implementation is more flexible. Here is a example from Scipy website"
     ]
    },
    {
     "cell_type": "code",
     "collapsed": false,
     "input": [
      "%matplotlib inline\n",
      "# Kalman filter example demo in Python\n",
      "\n",
      "# A Python implementation of the example given in pages 11-15 of \"An\n",
      "# Introduction to the Kalman Filter\" by Greg Welch and Gary Bishop,\n",
      "# University of North Carolina at Chapel Hill, Department of Computer\n",
      "# Science, TR 95-041,\n",
      "# http://www.cs.unc.edu/~welch/kalman/kalmanIntro.html\n",
      "\n",
      "# by Andrew D. Straw\n",
      "\n",
      "import numpy\n",
      "import pylab\n",
      "\n",
      "# intial parameters\n",
      "n_iter = 50\n",
      "sz = (n_iter,) # size of array\n",
      "x = -0.37727 # truth value (typo in example at top of p. 13 calls this z)\n",
      "z = numpy.random.normal(x,0.1,size=sz) # observations (normal about x, sigma=0.1)\n",
      "\n",
      "Q = 1e-5 # process variance\n",
      "\n",
      "# allocate space for arrays\n",
      "xhat=numpy.zeros(sz)      # a posteri estimate of x\n",
      "P=numpy.zeros(sz)         # a posteri error estimate\n",
      "xhatminus=numpy.zeros(sz) # a priori estimate of x\n",
      "Pminus=numpy.zeros(sz)    # a priori error estimate\n",
      "K=numpy.zeros(sz)         # gain or blending factor\n",
      "\n",
      "R = 0.1**2 # estimate of measurement variance, change to see effect\n",
      "\n",
      "# intial guesses\n",
      "xhat[0] = 0.0\n",
      "P[0] = 1.0\n",
      "\n",
      "for k in range(1,n_iter):\n",
      "    # time update\n",
      "    xhatminus[k] = xhat[k-1]\n",
      "    Pminus[k] = P[k-1]+Q\n",
      "\n",
      "    # measurement update\n",
      "    K[k] = Pminus[k]/( Pminus[k]+R )\n",
      "    xhat[k] = xhatminus[k]+K[k]*(z[k]-xhatminus[k])\n",
      "    P[k] = (1-K[k])*Pminus[k]\n",
      "\n",
      "pylab.figure()\n",
      "pylab.plot(z,'k+',label='noisy measurements')\n",
      "pylab.plot(xhat,'b-',label='a posteri estimate')\n",
      "pylab.axhline(x,color='g',label='truth value')\n",
      "pylab.legend()\n",
      "pylab.xlabel('Iteration')\n",
      "pylab.ylabel('Voltage')\n",
      "\n",
      "pylab.figure()\n",
      "valid_iter = range(1,n_iter) # Pminus not valid at step 0\n",
      "pylab.plot(valid_iter,Pminus[valid_iter],label='a priori error estimate')\n",
      "pylab.xlabel('Iteration')\n",
      "pylab.ylabel('$(Voltage)^2$')\n",
      "pylab.setp(pylab.gca(),'ylim',[0,.01])\n",
      "pylab.show()"
     ],
     "language": "python",
     "metadata": {},
     "outputs": [
      {
       "ename": "ImportError",
       "evalue": "No module named pylab",
       "output_type": "pyerr",
       "traceback": [
        "\u001b[0;31m---------------------------------------------------------------------------\u001b[0m\n\u001b[0;31mImportError\u001b[0m                               Traceback (most recent call last)",
        "\u001b[0;32m<ipython-input-1-4b54783b8c4b>\u001b[0m in \u001b[0;36m<module>\u001b[0;34m()\u001b[0m\n\u001b[1;32m     10\u001b[0m \u001b[0;34m\u001b[0m\u001b[0m\n\u001b[1;32m     11\u001b[0m \u001b[0;32mimport\u001b[0m \u001b[0mnumpy\u001b[0m\u001b[0;34m\u001b[0m\u001b[0m\n\u001b[0;32m---> 12\u001b[0;31m \u001b[0;32mimport\u001b[0m \u001b[0mpylab\u001b[0m\u001b[0;34m\u001b[0m\u001b[0m\n\u001b[0m\u001b[1;32m     13\u001b[0m \u001b[0;34m\u001b[0m\u001b[0m\n\u001b[1;32m     14\u001b[0m \u001b[0;31m# intial parameters\u001b[0m\u001b[0;34m\u001b[0m\u001b[0;34m\u001b[0m\u001b[0m\n",
        "\u001b[0;31mImportError\u001b[0m: No module named pylab"
       ]
      }
     ],
     "prompt_number": 1
    },
    {
     "cell_type": "code",
     "collapsed": false,
     "input": [],
     "language": "python",
     "metadata": {},
     "outputs": []
    }
   ],
   "metadata": {}
  }
 ]
}